{
 "cells": [
  {
   "cell_type": "markdown",
   "metadata": {
    "collapsed": true
   },
   "source": [
    "# My Jupyter Notebook on IBM Watson Studio"
   ]
  },
  {
   "cell_type": "markdown",
   "metadata": {},
   "source": [
    "## Name : Shaik Mubasher Uddin"
   ]
  },
  {
   "cell_type": "markdown",
   "metadata": {},
   "source": [
    " Data Science"
   ]
  },
  {
   "cell_type": "markdown",
   "metadata": {},
   "source": [
    "I'am intrested in data science because, I enjoy problem-solving and statistical analysis."
   ]
  },
  {
   "cell_type": "markdown",
   "metadata": {},
   "source": [
    "The Following code displays number of Positives, Negatives, Zero's from a list of number"
   ]
  },
  {
   "cell_type": "code",
   "execution_count": 1,
   "metadata": {},
   "outputs": [
    {
     "name": "stdout",
     "output_type": "stream",
     "text": [
      "Total Positive Numbers in the List = 8\n",
      "Total Negative Numbers in the List = 8\n",
      "Total Zero Numbers in the List = 3\n"
     ]
    }
   ],
   "source": [
    "lst = [85,66,-75,-5,-32,-33,23,0,-27,49,-55,9,-8,0,1,2,-6,0,3]\n",
    "p,n,z=0,0,0\n",
    "for i in lst:\n",
    "    if i>0:\n",
    "        p=p+1\n",
    "    elif i<0:\n",
    "        n=n+1\n",
    "    else:\n",
    "        z=z+1\n",
    "print(\"Total Positive Numbers in the List =\",p)\n",
    "print(\"Total Negative Numbers in the List =\",n)\n",
    "print(\"Total Zero Numbers in the List =\",z)"
   ]
  },
  {
   "cell_type": "code",
   "execution_count": null,
   "metadata": {},
   "outputs": [],
   "source": []
  }
 ],
 "metadata": {
  "kernelspec": {
   "display_name": "Python 3.10",
   "language": "python",
   "name": "python3"
  },
  "language_info": {
   "codemirror_mode": {
    "name": "ipython",
    "version": 3
   },
   "file_extension": ".py",
   "mimetype": "text/x-python",
   "name": "python",
   "nbconvert_exporter": "python",
   "pygments_lexer": "ipython3",
   "version": "3.10.6"
  }
 },
 "nbformat": 4,
 "nbformat_minor": 1
}
