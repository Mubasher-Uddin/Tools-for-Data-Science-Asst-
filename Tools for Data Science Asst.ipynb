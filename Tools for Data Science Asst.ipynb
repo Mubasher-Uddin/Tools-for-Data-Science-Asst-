{
 "cells": [
  {
   "cell_type": "markdown",
   "id": "694c5c55",
   "metadata": {},
   "source": [
    "# My Jupyter Notebook on IBM Watson Studio"
   ]
  },
  {
   "cell_type": "markdown",
   "id": "c9d34f47",
   "metadata": {},
   "source": [
    "## Name : Shaik Mubasher Uddin"
   ]
  },
  {
   "cell_type": "markdown",
   "id": "894fd753",
   "metadata": {},
   "source": [
    "Data Science "
   ]
  },
  {
   "cell_type": "markdown",
   "id": "26d3975c",
   "metadata": {},
   "source": [
    "Iam intrested in data science because,I enjoy problem-solving,and statistical analysis."
   ]
  },
  {
   "cell_type": "markdown",
   "id": "c6c974ab",
   "metadata": {},
   "source": [
    "The Following code displays number of Positives,Negatives, Zero's from a list of number"
   ]
  },
  {
   "cell_type": "code",
   "execution_count": 4,
   "id": "b1ae8abd",
   "metadata": {},
   "outputs": [
    {
     "name": "stdout",
     "output_type": "stream",
     "text": [
      "Pos= 7\n",
      "Neg= 7\n",
      "Zero= 2\n"
     ]
    }
   ],
   "source": [
    "lst = [-1,-19,-69,33,25,-99,-45,23,9,-8,0,1,2,-6,0,3]\n",
    "p,n,z=0,0,0\n",
    "for i in lst:\n",
    "    if i>0:\n",
    "        p=p+1\n",
    "    elif i<0:\n",
    "        n=n+1\n",
    "    else:\n",
    "        z=z+1\n",
    "print(\"Pos=\",p)\n",
    "print(\"Neg=\",n)\n",
    "print(\"Zero=\",z)"
   ]
  },
  {
   "cell_type": "code",
   "execution_count": null,
   "id": "7b0917e9",
   "metadata": {},
   "outputs": [],
   "source": []
  }
 ],
 "metadata": {
  "kernelspec": {
   "display_name": "Python 3 (ipykernel)",
   "language": "python",
   "name": "python3"
  },
  "language_info": {
   "codemirror_mode": {
    "name": "ipython",
    "version": 3
   },
   "file_extension": ".py",
   "mimetype": "text/x-python",
   "name": "python",
   "nbconvert_exporter": "python",
   "pygments_lexer": "ipython3",
   "version": "3.10.6"
  }
 },
 "nbformat": 4,
 "nbformat_minor": 5
}
